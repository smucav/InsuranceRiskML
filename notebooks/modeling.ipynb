{
 "cells": [
  {
   "cell_type": "code",
   "execution_count": 1,
   "id": "90a1487a-f031-4094-ab21-dcd9b4fed1aa",
   "metadata": {},
   "outputs": [],
   "source": [
    "import pandas as pd\n",
    "import matplotlib.pyplot as plt\n",
    "import seaborn as sns\n",
    "import sys\n",
    "sys.path.append('../scripts')\n",
    "from modeling import ClaimSeverityModel"
   ]
  },
  {
   "cell_type": "code",
   "execution_count": 2,
   "id": "dd37f8a4-4214-4a02-b146-d19a5aab7143",
   "metadata": {},
   "outputs": [
    {
     "name": "stdout",
     "output_type": "stream",
     "text": [
      "Data shape: (837833, 47)\n",
      "Claims > 0: 2422\n"
     ]
    }
   ],
   "source": [
    "data = pd.read_csv('../data/processed/clean_data.csv', low_memory=False)\n",
    "print(f'Data shape: {data.shape}')\n",
    "print(f'Claims > 0: {data[data[\"totalclaims\"] > 0].shape[0]}')"
   ]
  },
  {
   "cell_type": "code",
   "execution_count": 3,
   "id": "96e2cb41-0ab4-4348-9d5c-9cb760b60dad",
   "metadata": {},
   "outputs": [],
   "source": [
    "modeler = ClaimSeverityModel(data)"
   ]
  },
  {
   "cell_type": "code",
   "execution_count": 4,
   "id": "c352d75c-99c3-4f81-b3b5-a6567a741c37",
   "metadata": {},
   "outputs": [
    {
     "name": "stdout",
     "output_type": "stream",
     "text": [
      "Data shape after filtering claims > 0: (2422, 47)\n",
      "Column dtypes:\n",
      "underwrittencoverid           int64\n",
      "policyid                      int64\n",
      "transactionmonth             object\n",
      "isvatregistered                bool\n",
      "citizenship                  object\n",
      "legaltype                    object\n",
      "title                        object\n",
      "language                     object\n",
      "bank                         object\n",
      "accounttype                  object\n",
      "maritalstatus                object\n",
      "gender                       object\n",
      "country                      object\n",
      "province                     object\n",
      "postalcode                    int64\n",
      "maincrestazone               object\n",
      "subcrestazone                object\n",
      "itemtype                     object\n",
      "mmcode                      float64\n",
      "vehicletype                  object\n",
      "registrationyear              int64\n",
      "make                         object\n",
      "model                        object\n",
      "cylinders                   float64\n",
      "cubiccapacity               float64\n",
      "kilowatts                   float64\n",
      "bodytype                     object\n",
      "numberofdoors               float64\n",
      "vehicleintrodate             object\n",
      "alarmimmobiliser             object\n",
      "trackingdevice               object\n",
      "capitaloutstanding           object\n",
      "newvehicle                   object\n",
      "suminsured                  float64\n",
      "termfrequency                object\n",
      "calculatedpremiumperterm    float64\n",
      "excessselected               object\n",
      "covercategory                object\n",
      "covertype                    object\n",
      "covergroup                   object\n",
      "section                      object\n",
      "product                      object\n",
      "statutoryclass               object\n",
      "statutoryrisktype            object\n",
      "totalpremium                float64\n",
      "totalclaims                 float64\n",
      "termfrequency_mapped          int64\n",
      "dtype: object\n"
     ]
    },
    {
     "name": "stderr",
     "output_type": "stream",
     "text": [
      "/home/smuca/task/InsuranceRiskML/notebooks/../scripts/modeling.py:82: FutureWarning: Setting an item of incompatible dtype is deprecated and will raise in a future error of pandas. Value '[0 0 0 ... 0 0 0]' has dtype incompatible with bool, please explicitly cast to a compatible dtype first.\n",
      "  X.loc[:, col] = X[col].astype(np.int64)  # Fix FutureWarning\n",
      "/home/smuca/task/InsuranceRiskML/notebooks/../scripts/modeling.py:82: FutureWarning: Setting an item of incompatible dtype is deprecated and will raise in a future error of pandas. Value '[1 1 1 ... 1 0 1]' has dtype incompatible with bool, please explicitly cast to a compatible dtype first.\n",
      "  X.loc[:, col] = X[col].astype(np.int64)  # Fix FutureWarning\n",
      "/home/smuca/task/InsuranceRiskML/notebooks/../scripts/modeling.py:82: FutureWarning: Setting an item of incompatible dtype is deprecated and will raise in a future error of pandas. Value '[0 0 0 ... 0 0 0]' has dtype incompatible with bool, please explicitly cast to a compatible dtype first.\n",
      "  X.loc[:, col] = X[col].astype(np.int64)  # Fix FutureWarning\n",
      "/home/smuca/task/InsuranceRiskML/notebooks/../scripts/modeling.py:82: FutureWarning: Setting an item of incompatible dtype is deprecated and will raise in a future error of pandas. Value '[0 0 0 ... 0 0 0]' has dtype incompatible with bool, please explicitly cast to a compatible dtype first.\n",
      "  X.loc[:, col] = X[col].astype(np.int64)  # Fix FutureWarning\n",
      "/home/smuca/task/InsuranceRiskML/notebooks/../scripts/modeling.py:82: FutureWarning: Setting an item of incompatible dtype is deprecated and will raise in a future error of pandas. Value '[0 0 0 ... 0 0 0]' has dtype incompatible with bool, please explicitly cast to a compatible dtype first.\n",
      "  X.loc[:, col] = X[col].astype(np.int64)  # Fix FutureWarning\n",
      "/home/smuca/task/InsuranceRiskML/notebooks/../scripts/modeling.py:82: FutureWarning: Setting an item of incompatible dtype is deprecated and will raise in a future error of pandas. Value '[0 0 0 ... 0 0 0]' has dtype incompatible with bool, please explicitly cast to a compatible dtype first.\n",
      "  X.loc[:, col] = X[col].astype(np.int64)  # Fix FutureWarning\n",
      "/home/smuca/task/InsuranceRiskML/notebooks/../scripts/modeling.py:82: FutureWarning: Setting an item of incompatible dtype is deprecated and will raise in a future error of pandas. Value '[0 0 0 ... 0 0 0]' has dtype incompatible with bool, please explicitly cast to a compatible dtype first.\n",
      "  X.loc[:, col] = X[col].astype(np.int64)  # Fix FutureWarning\n",
      "/home/smuca/task/InsuranceRiskML/notebooks/../scripts/modeling.py:82: FutureWarning: Setting an item of incompatible dtype is deprecated and will raise in a future error of pandas. Value '[0 0 0 ... 0 1 0]' has dtype incompatible with bool, please explicitly cast to a compatible dtype first.\n",
      "  X.loc[:, col] = X[col].astype(np.int64)  # Fix FutureWarning\n",
      "/home/smuca/task/InsuranceRiskML/notebooks/../scripts/modeling.py:82: FutureWarning: Setting an item of incompatible dtype is deprecated and will raise in a future error of pandas. Value '[1 1 1 ... 0 1 1]' has dtype incompatible with bool, please explicitly cast to a compatible dtype first.\n",
      "  X.loc[:, col] = X[col].astype(np.int64)  # Fix FutureWarning\n",
      "/home/smuca/task/InsuranceRiskML/notebooks/../scripts/modeling.py:82: FutureWarning: Setting an item of incompatible dtype is deprecated and will raise in a future error of pandas. Value '[0 0 0 ... 0 0 0]' has dtype incompatible with bool, please explicitly cast to a compatible dtype first.\n",
      "  X.loc[:, col] = X[col].astype(np.int64)  # Fix FutureWarning\n",
      "/home/smuca/task/InsuranceRiskML/notebooks/../scripts/modeling.py:82: FutureWarning: Setting an item of incompatible dtype is deprecated and will raise in a future error of pandas. Value '[0 0 0 ... 0 0 0]' has dtype incompatible with bool, please explicitly cast to a compatible dtype first.\n",
      "  X.loc[:, col] = X[col].astype(np.int64)  # Fix FutureWarning\n",
      "/home/smuca/task/InsuranceRiskML/notebooks/../scripts/modeling.py:82: FutureWarning: Setting an item of incompatible dtype is deprecated and will raise in a future error of pandas. Value '[0 0 0 ... 0 0 0]' has dtype incompatible with bool, please explicitly cast to a compatible dtype first.\n",
      "  X.loc[:, col] = X[col].astype(np.int64)  # Fix FutureWarning\n",
      "/home/smuca/task/InsuranceRiskML/notebooks/../scripts/modeling.py:82: FutureWarning: Setting an item of incompatible dtype is deprecated and will raise in a future error of pandas. Value '[1 1 1 ... 1 0 1]' has dtype incompatible with bool, please explicitly cast to a compatible dtype first.\n",
      "  X.loc[:, col] = X[col].astype(np.int64)  # Fix FutureWarning\n",
      "/home/smuca/task/InsuranceRiskML/notebooks/../scripts/modeling.py:82: FutureWarning: Setting an item of incompatible dtype is deprecated and will raise in a future error of pandas. Value '[0 0 0 ... 0 0 0]' has dtype incompatible with bool, please explicitly cast to a compatible dtype first.\n",
      "  X.loc[:, col] = X[col].astype(np.int64)  # Fix FutureWarning\n",
      "/home/smuca/task/InsuranceRiskML/notebooks/../scripts/modeling.py:82: FutureWarning: Setting an item of incompatible dtype is deprecated and will raise in a future error of pandas. Value '[0 0 0 ... 0 0 0]' has dtype incompatible with bool, please explicitly cast to a compatible dtype first.\n",
      "  X.loc[:, col] = X[col].astype(np.int64)  # Fix FutureWarning\n",
      "/home/smuca/task/InsuranceRiskML/notebooks/../scripts/modeling.py:82: FutureWarning: Setting an item of incompatible dtype is deprecated and will raise in a future error of pandas. Value '[0 0 0 ... 0 0 0]' has dtype incompatible with bool, please explicitly cast to a compatible dtype first.\n",
      "  X.loc[:, col] = X[col].astype(np.int64)  # Fix FutureWarning\n",
      "/home/smuca/task/InsuranceRiskML/notebooks/../scripts/modeling.py:82: FutureWarning: Setting an item of incompatible dtype is deprecated and will raise in a future error of pandas. Value '[0 0 1 ... 0 0 0]' has dtype incompatible with bool, please explicitly cast to a compatible dtype first.\n",
      "  X.loc[:, col] = X[col].astype(np.int64)  # Fix FutureWarning\n",
      "/home/smuca/task/InsuranceRiskML/notebooks/../scripts/modeling.py:82: FutureWarning: Setting an item of incompatible dtype is deprecated and will raise in a future error of pandas. Value '[0 0 0 ... 0 0 0]' has dtype incompatible with bool, please explicitly cast to a compatible dtype first.\n",
      "  X.loc[:, col] = X[col].astype(np.int64)  # Fix FutureWarning\n",
      "/home/smuca/task/InsuranceRiskML/notebooks/../scripts/modeling.py:82: FutureWarning: Setting an item of incompatible dtype is deprecated and will raise in a future error of pandas. Value '[0 1 0 ... 0 0 1]' has dtype incompatible with bool, please explicitly cast to a compatible dtype first.\n",
      "  X.loc[:, col] = X[col].astype(np.int64)  # Fix FutureWarning\n",
      "/home/smuca/task/InsuranceRiskML/notebooks/../scripts/modeling.py:82: FutureWarning: Setting an item of incompatible dtype is deprecated and will raise in a future error of pandas. Value '[0 0 0 ... 0 0 0]' has dtype incompatible with bool, please explicitly cast to a compatible dtype first.\n",
      "  X.loc[:, col] = X[col].astype(np.int64)  # Fix FutureWarning\n",
      "/home/smuca/task/InsuranceRiskML/notebooks/../scripts/modeling.py:82: FutureWarning: Setting an item of incompatible dtype is deprecated and will raise in a future error of pandas. Value '[0 0 0 ... 0 0 0]' has dtype incompatible with bool, please explicitly cast to a compatible dtype first.\n",
      "  X.loc[:, col] = X[col].astype(np.int64)  # Fix FutureWarning\n",
      "/home/smuca/task/InsuranceRiskML/notebooks/../scripts/modeling.py:82: FutureWarning: Setting an item of incompatible dtype is deprecated and will raise in a future error of pandas. Value '[1 0 0 ... 1 1 0]' has dtype incompatible with bool, please explicitly cast to a compatible dtype first.\n",
      "  X.loc[:, col] = X[col].astype(np.int64)  # Fix FutureWarning\n",
      "/home/smuca/task/InsuranceRiskML/notebooks/../scripts/modeling.py:82: FutureWarning: Setting an item of incompatible dtype is deprecated and will raise in a future error of pandas. Value '[1 1 1 ... 1 1 1]' has dtype incompatible with bool, please explicitly cast to a compatible dtype first.\n",
      "  X.loc[:, col] = X[col].astype(np.int64)  # Fix FutureWarning\n",
      "/home/smuca/task/InsuranceRiskML/notebooks/../scripts/modeling.py:82: FutureWarning: Setting an item of incompatible dtype is deprecated and will raise in a future error of pandas. Value '[0 0 0 ... 0 0 0]' has dtype incompatible with bool, please explicitly cast to a compatible dtype first.\n",
      "  X.loc[:, col] = X[col].astype(np.int64)  # Fix FutureWarning\n"
     ]
    },
    {
     "name": "stdout",
     "output_type": "stream",
     "text": [
      "Train shape: (1937, 31), Test shape: (485, 31)\n",
      "Features used: ['cubiccapacity', 'registrationyear', 'suminsured', 'postalcode', 'vehicle_age', 'postcode_claim_freq', 'postalcode_encoded', 'province_Free State', 'province_Gauteng', 'province_KwaZulu-Natal', 'province_Limpopo', 'province_Mpumalanga', 'province_North West', 'province_Northern Cape', 'province_Western Cape', 'gender_Male', 'vehicletype_Heavy Commercial', 'vehicletype_Light Commercial', 'vehicletype_Medium Commercial', 'vehicletype_Passenger Vehicle', 'covertype_Deposit Cover', 'covertype_Emergency Charges', 'covertype_Factory Fitted Sound and Other Electronic Equipment', 'covertype_Income Protector', 'covertype_Keys and Alarms', 'covertype_Own Damage', 'covertype_Roadside Assistance', 'covertype_Third Party', 'covertype_Windscreen', 'maritalstatus_Not specified', 'maritalstatus_Single']\n",
      "Trained Linear Regression\n",
      "Trained Random Forest\n",
      "Trained XGBoost\n",
      "Linear Regression - RMSE: 29140.46, R-squared: 0.3201\n",
      "Random Forest - RMSE: 30900.56, R-squared: 0.2355\n",
      "XGBoost - RMSE: 28619.74, R-squared: 0.3442\n",
      "Results saved to reports/model_results.csv\n",
      "SHAP summary plot saved to plots/shap_summary.png\n",
      "Top 10 features saved to reports/shap_importance.csv\n"
     ]
    }
   ],
   "source": [
    "# Prepare data\n",
    "X_train, X_test, y_train, y_test = modeler.prepare_data()\n",
    "\n",
    "# Train models\n",
    "modeler.train_models()\n",
    "\n",
    "# Evaluate models\n",
    "modeler.evaluate_models()\n",
    "\n",
    "# Interpret best model (XGBoost)\n",
    "modeler.interpret_model()"
   ]
  },
  {
   "cell_type": "code",
   "execution_count": 5,
   "id": "86a05089-b099-46e9-834b-7ef6800cbe24",
   "metadata": {},
   "outputs": [
    {
     "data": {
      "image/png": "[encoded data removed]",
      "text/plain": [
       "<Figure size 1000x600 with 1 Axes>"
      ]
     },
     "metadata": {},
     "output_type": "display_data"
    }
   ],
   "source": [
    "results = pd.read_csv('../reports/model_results.csv')\n",
    "plt.figure(figsize=(10, 6))\n",
    "sns.barplot(x='Model', y='RMSE', data=results)\n",
    "plt.title('Model RMSE Comparison')\n",
    "plt.ylabel('RMSE (Rand)')\n",
    "plt.savefig('../plots/model_rmse_comparison.png')\n",
    "plt.show()"
   ]
  },
  {
   "cell_type": "code",
   "execution_count": 7,
   "id": "e6ace8e6-cbfb-49e8-b604-4774d3ce441a",
   "metadata": {},
   "outputs": [],
   "source": [
    "shap_importance = pd.read_csv('../reports/shap_importance.csv')\n",
    "top_features = shap_importance['Feature'].head(5).tolist()"
   ]
  },
  {
   "cell_type": "code",
   "execution_count": 8,
   "id": "eace64cc-d70c-4e6e-bddb-a8309242002b",
   "metadata": {},
   "outputs": [
    {
     "name": "stdout",
     "output_type": "stream",
     "text": [
      "\n",
      "Claim Severity Prediction Results:\n",
      "- Linear Regression: RMSE = 29,140.46, R-squared = 0.3201\n",
      "- Random Forest: RMSE = 30,900.56, R-squared = 0.2355\n",
      "- XGBoost: RMSE = 28,619.74, R-squared = 0.3442\n",
      "- Best Model: XGBoost (lowest RMSE, highest R-squared)\n",
      "\n",
      "SHAP Analysis:\n",
      "- Top features: suminsured, covertype_Windscreen, postalcode_encoded, postalcode, cubiccapacity\n",
      "- Insight: Higher `suminsured` strongly increases predicted claim severity, suggesting policies with higher insured values carry greater risk, justifying premium adjustments.\n",
      "\n",
      "Business Impact:\n",
      "- Claim severity models support risk-based pricing, but low R-squared (~0.34) and small dataset (2,422 claims) limit accuracy.\n",
      "- Key features (e.g., suminsured, covertype_Windscreen) inform premium adjustments and marketing strategies.\n",
      "- Limitations: Small dataset risks overfitting; gender imputation bias (~93.5% Male) and regional vehicle differences may skew results.\n",
      "- Future Work: Model claim probability and optimize premiums using (Probability * Severity) + Loading.\n",
      "\n",
      "Recommendations:\n",
      "- Deploy XGBoost cautiously due to small dataset.\n",
      "- Adjust premiums based on top features (e.g., higher for high-suminsured policies or Windscreen cover).\n",
      "- Improve claims data collection to increase sample size.\n",
      "- Address gender imputation bias.\n",
      "\n"
     ]
    }
   ],
   "source": [
    "print(f\"\"\"\n",
    "Claim Severity Prediction Results:\n",
    "- Linear Regression: RMSE = 29,140.46, R-squared = 0.3201\n",
    "- Random Forest: RMSE = 30,900.56, R-squared = 0.2355\n",
    "- XGBoost: RMSE = 28,619.74, R-squared = 0.3442\n",
    "- Best Model: XGBoost (lowest RMSE, highest R-squared)\n",
    "\n",
    "SHAP Analysis:\n",
    "- Top features: {', '.join(top_features)}\n",
    "- Insight: Higher `suminsured` strongly increases predicted claim severity, suggesting policies with higher insured values carry greater risk, justifying premium adjustments.\n",
    "\n",
    "Business Impact:\n",
    "- Claim severity models support risk-based pricing, but low R-squared (~0.34) and small dataset (2,422 claims) limit accuracy.\n",
    "- Key features (e.g., suminsured, covertype_Windscreen) inform premium adjustments and marketing strategies.\n",
    "- Limitations: Small dataset risks overfitting; gender imputation bias (~93.5% Male) and regional vehicle differences may skew results.\n",
    "- Future Work: Model claim probability and optimize premiums using (Probability * Severity) + Loading.\n",
    "\n",
    "Recommendations:\n",
    "- Deploy XGBoost cautiously due to small dataset.\n",
    "- Adjust premiums based on top features (e.g., higher for high-suminsured policies or Windscreen cover).\n",
    "- Improve claims data collection to increase sample size.\n",
    "- Address gender imputation bias.\n",
    "\"\"\")"
   ]
  },
  {
   "cell_type": "code",
   "execution_count": null,
   "id": "dd77f1f6-6d63-4c90-ab27-cbcc611f6c3f",
   "metadata": {},
   "outputs": [],
   "source": []
  }
 ],
 "metadata": {
  "kernelspec": {
   "display_name": "Python 3 (ipykernel)",
   "language": "python",
   "name": "python3"
  },
  "language_info": {
   "codemirror_mode": {
    "name": "ipython",
    "version": 3
   },
   "file_extension": ".py",
   "mimetype": "text/x-python",
   "name": "python",
   "nbconvert_exporter": "python",
   "pygments_lexer": "ipython3",
   "version": "3.10.17"
  }
 },
 "nbformat": 4,
 "nbformat_minor": 5
}
